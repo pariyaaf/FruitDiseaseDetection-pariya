{
 "cells": [
  {
   "attachments": {},
   "cell_type": "markdown",
   "metadata": {},
   "source": [
    "<h1 align=center style=\"line-height:200%;font-family:vazir;color:#0099cc\">\n",
    "<font face=\"vazir\" color=\"ffffff\">\n",
    "base code\n",
    "\n",
    "</font>\n",
    "</h1>"
   ]
  },
  {
   "cell_type": "code",
   "execution_count": 2,
   "metadata": {
    "id": "ddU9LZWUEiAd"
   },
   "outputs": [],
   "source": [
    "import tensorflow as tf\n",
    "from tensorflow import keras\n",
    "from tensorflow.keras import layers\n",
    "from tensorflow.keras.preprocessing import image_dataset_from_directory\n",
    "from tensorflow.keras.callbacks import EarlyStopping\n",
    "from keras_preprocessing.image import ImageDataGenerator\n",
    "import matplotlib.pyplot as plt\n",
    "import numpy as np\n",
    "from IPython.display import Image, display\n",
    "import sys\n",
    "import pandas as pd\n",
    "from keras.layers import Activation, Dense\n",
    "from tensorflow.keras.layers import Dense, Flatten\n",
    "from tensorflow.keras import Sequential\n",
    "from keras.layers import BatchNormalization"
   ]
  },
  {
   "cell_type": "code",
   "execution_count": 3,
   "metadata": {
    "colab": {
     "base_uri": "https://localhost:8080/"
    },
    "id": "7reDRLLz0Nek",
    "outputId": "7d1e86c3-7422-4a8b-b55f-d9629a08fb95"
   },
   "outputs": [
    {
     "name": "stdout",
     "output_type": "stream",
     "text": [
      "Requirement already satisfied: efficientnet in c:\\programdata\\anaconda3\\lib\\site-packages (1.1.1)\n",
      "Requirement already satisfied: scikit-image in c:\\programdata\\anaconda3\\lib\\site-packages (from efficientnet) (0.16.2)\n",
      "Requirement already satisfied: keras-applications<=1.0.8,>=1.0.7 in c:\\programdata\\anaconda3\\lib\\site-packages (from efficientnet) (1.0.8)\n",
      "Requirement already satisfied: imageio>=2.3.0 in c:\\programdata\\anaconda3\\lib\\site-packages (from scikit-image->efficientnet) (2.9.0)\n",
      "Requirement already satisfied: PyWavelets>=0.4.0 in c:\\programdata\\anaconda3\\lib\\site-packages (from scikit-image->efficientnet) (1.1.1)\n",
      "Requirement already satisfied: networkx>=2.0 in c:\\programdata\\anaconda3\\lib\\site-packages (from scikit-image->efficientnet) (2.4)\n",
      "Requirement already satisfied: matplotlib!=3.0.0,>=2.0.0 in c:\\programdata\\anaconda3\\lib\\site-packages (from scikit-image->efficientnet) (3.2.2)\n",
      "Requirement already satisfied: scipy>=0.19.0 in c:\\programdata\\anaconda3\\lib\\site-packages (from scikit-image->efficientnet) (1.5.0)\n",
      "Requirement already satisfied: pillow>=4.3.0 in c:\\programdata\\anaconda3\\lib\\site-packages (from scikit-image->efficientnet) (7.2.0)\n",
      "Requirement already satisfied: h5py in c:\\programdata\\anaconda3\\lib\\site-packages (from keras-applications<=1.0.8,>=1.0.7->efficientnet) (2.10.0)\n",
      "Requirement already satisfied: numpy>=1.9.1 in c:\\users\\asus\\appdata\\roaming\\python\\python38\\site-packages (from keras-applications<=1.0.8,>=1.0.7->efficientnet) (1.19.5)\n",
      "Requirement already satisfied: decorator>=4.3.0 in c:\\programdata\\anaconda3\\lib\\site-packages (from networkx>=2.0->scikit-image->efficientnet) (4.4.2)\n",
      "Requirement already satisfied: cycler>=0.10 in c:\\programdata\\anaconda3\\lib\\site-packages (from matplotlib!=3.0.0,>=2.0.0->scikit-image->efficientnet) (0.10.0)\n",
      "Requirement already satisfied: pyparsing!=2.0.4,!=2.1.2,!=2.1.6,>=2.0.1 in c:\\programdata\\anaconda3\\lib\\site-packages (from matplotlib!=3.0.0,>=2.0.0->scikit-image->efficientnet) (2.4.7)\n",
      "Requirement already satisfied: kiwisolver>=1.0.1 in c:\\programdata\\anaconda3\\lib\\site-packages (from matplotlib!=3.0.0,>=2.0.0->scikit-image->efficientnet) (1.2.0)\n",
      "Requirement already satisfied: python-dateutil>=2.1 in c:\\programdata\\anaconda3\\lib\\site-packages (from matplotlib!=3.0.0,>=2.0.0->scikit-image->efficientnet) (2.8.1)\n",
      "Requirement already satisfied: six in c:\\programdata\\anaconda3\\lib\\site-packages (from h5py->keras-applications<=1.0.8,>=1.0.7->efficientnet) (1.15.0)\n"
     ]
    }
   ],
   "source": [
    "!pip install efficientnet\n"
   ]
  },
  {
   "cell_type": "code",
   "execution_count": 16,
   "metadata": {
    "id": "xAPu3ziE01Zl"
   },
   "outputs": [
    {
     "name": "stdout",
     "output_type": "stream",
     "text": [
      "(506, 500, 1) (506, 500, 1) (506, 500, 1)\n"
     ]
    }
   ],
   "source": [
    "\n",
    "base_model = tf.keras.applications.VGG16(weights=\"imagenet\",\n",
    "    input_shape=(100, 100, 3),\n",
    "    include_top=False)\n",
    "\n",
    "vgg_layer_list = base_model.layers\n",
    "\n",
    "base_model = keras.Sequential()\n",
    "\n",
    "for i in range(len(vgg_layer_list)-1):\n",
    "   base_model.add(vgg_layer_list[i])"
   ]
  },
  {
   "cell_type": "code",
   "execution_count": null,
   "metadata": {},
   "outputs": [],
   "source": [
    "   \n",
    "model = Sequential()\n",
    "model.add(base_model)\n",
    "model.add(Flatten())\n",
    "model.add(Dense(128, activation='relu'))\n",
    "model.add(layers.Dropout(rate=0.1))\n",
    "model.add(Dense(64, activation='relu'))\n",
    "model.add(layers.Dropout(rate=0.1))\n",
    "model.add(Flatten())\n",
    "model.add(Dense(38, activation='softmax'))\n"
   ]
  },
  {
   "cell_type": "code",
   "execution_count": null,
   "metadata": {},
   "outputs": [],
   "source": [
    "\n",
    "model.compile(optimizer='adam', loss = \"categorical_crossentropy\" , metrics =['accuracy'])"
   ]
  },
  {
   "cell_type": "code",
   "execution_count": null,
   "metadata": {},
   "outputs": [],
   "source": [
    "\n",
    "from tensorflow.keras.preprocessing.image import ImageDataGenerator\n",
    "\n",
    "train_datagen = tf.keras.preprocessing.image.ImageDataGenerator(\n",
    "        rescale=1./255,\n",
    "        shear_range=0.2,\n",
    "        zoom_range=0.2,\n",
    "        horizontal_flip=True)\n",
    "\n",
    "\n",
    "train_ds_ = train_datagen.flow_from_directory(\n",
    "    '../input/plant-disease/dataset/train',\n",
    "    class_mode='categorical',\n",
    "    target_size=(100,100),\n",
    "\n",
    "    batch_size=32\n",
    ")\n",
    "\n",
    "\n",
    "test_datagen = ImageDataGenerator(rescale=1./255)\n",
    "\n",
    "test_ds_ = test_datagen.flow_from_directory(\n",
    "    '../input/plant-disease/dataset/test',\n",
    "    class_mode='categorical',\n",
    "    target_size=(100,100),\n",
    "    batch_size=32\n",
    ")\n"
   ]
  },
  {
   "cell_type": "code",
   "execution_count": null,
   "metadata": {},
   "outputs": [],
   "source": [
    "from tensorflow.keras.callbacks import EarlyStopping\n",
    "early_stopping2_acc = EarlyStopping(\n",
    "    min_delta=0.0001,\n",
    "    patience=5,\n",
    "    monitor=\"accuracy\",\n",
    "    restore_best_weights=True,\n",
    "    mode=\"auto\"\n",
    ")\n",
    "\n",
    "early_stopping2_loss = EarlyStopping(\n",
    "    min_delta=0.0001,\n",
    "    patience=5,\n",
    "    monitor=\"loss\",\n",
    "    restore_best_weights=True,\n",
    "    mode=\"auto\"\n",
    ")\n",
    "\n",
    "history2 = model.fit(\n",
    "    train_ds_,\n",
    "    batch_size = 32,\n",
    "    epochs = 25,\n",
    "    \n",
    "    validation_data= test_ds_,\n",
    "    callbacks = [early_stopping2_acc, early_stopping2_loss]\n",
    "    )\n",
    "    "
   ]
  },
  {
   "cell_type": "code",
   "execution_count": null,
   "metadata": {},
   "outputs": [],
   "source": []
  }
 ],
 "metadata": {
  "colab": {
   "collapsed_sections": [],
   "name": "exercise1.ipynb",
   "provenance": []
  },
  "kernelspec": {
   "display_name": "Python 3.9.0 ('qenv': venv)",
   "language": "python",
   "name": "python3"
  },
  "language_info": {
   "codemirror_mode": {
    "name": "ipython",
    "version": 3
   },
   "file_extension": ".py",
   "mimetype": "text/x-python",
   "name": "python",
   "nbconvert_exporter": "python",
   "pygments_lexer": "ipython3",
   "version": "3.8.3"
  },
  "vscode": {
   "interpreter": {
    "hash": "4a91c036363c718292c6a1f34f7b264e7bd73ac688f2a64170f8237d9e0ce983"
   }
  }
 },
 "nbformat": 4,
 "nbformat_minor": 2
}
